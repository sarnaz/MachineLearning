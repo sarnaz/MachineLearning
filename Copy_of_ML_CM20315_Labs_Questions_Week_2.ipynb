{
  "nbformat": 4,
  "nbformat_minor": 0,
  "metadata": {
    "colab": {
      "provenance": []
    },
    "kernelspec": {
      "name": "python3",
      "display_name": "Python 3"
    },
    "language_info": {
      "name": "python"
    }
  },
  "cells": [
    {
      "cell_type": "markdown",
      "source": [
        "# ML CM20315 Labs - Week 2\n",
        "\n",
        "Week 2's questions will be directly related to your assignment that will be released at the start of week 3.\n",
        "\n",
        "You are **strongly encouraged** to complete this work before the next lecture on **Thursday**.\n",
        "\n",
        "## Problem 1\n",
        "\n",
        "Tallissan Lintra is the best pilot in the extended third fleet and her spaceship, affectionately named Kashyyyk, is often used to explore far flung regions of space. Unfortunately, the Faster Than Light (FTL) drive is malfunctioning and Lintra needs an estimate of how fast she can travel with the fuel she has. Luckily Lintra has been keeping meticulous logs on her spaceship performance (light months travelled per gram of fuel). \n",
        "\n",
        "You can download this information from: https://moodle.bath.ac.uk/course/view.php?id=59652&section=17 (there are two files).\n",
        "\n",
        "NOTE: You will have to upload them to colab using the file section on the left. wget will not work. \n",
        "\n",
        "You are required to estimate if Kashyyyk can get back to Earth (which is 52.22 light months away) with the remaining 18 grams of fuel."
      ],
      "metadata": {
        "id": "bmlmTQXOLh7A"
      }
    },
    {
      "cell_type": "markdown",
      "source": [
        "## Problem 1a\n",
        "Download the data and load it into python. The training data is in the following format: \n",
        "\n",
        "```\n",
        "fuel in grams, range of ship in light months\n",
        "```\n",
        "\n",
        "You can use the following code to load this file:\n",
        "\n",
        "```python\n",
        "import pickle\n",
        "xs, ys = pickle.load( open( 'problem1.pickle', 'rb' ) )\n",
        "```\n",
        "\n",
        "Be sure to understand what this line of code does. "
      ],
      "metadata": {
        "id": "HIgXhN9sjoaU"
      }
    },
    {
      "cell_type": "code",
      "source": [
        "import pickle\n",
        "xs, ys = pickle.load( open( 'problem1.pickle', 'rb' ) )\n",
        "print(xs,ys)"
      ],
      "metadata": {
        "colab": {
          "base_uri": "https://localhost:8080/",
          "height": 200
        },
        "id": "-8_2UTz9o1VV",
        "outputId": "687b4029-b6ac-451b-bf91-54b514d476f0"
      },
      "execution_count": null,
      "outputs": [
        {
          "output_type": "error",
          "ename": "FileNotFoundError",
          "evalue": "ignored",
          "traceback": [
            "\u001b[0;31m---------------------------------------------------------------------------\u001b[0m",
            "\u001b[0;31mFileNotFoundError\u001b[0m                         Traceback (most recent call last)",
            "\u001b[0;32m<ipython-input-6-40bacc5767ab>\u001b[0m in \u001b[0;36m<module>\u001b[0;34m\u001b[0m\n\u001b[1;32m      1\u001b[0m \u001b[0;32mimport\u001b[0m \u001b[0mpickle\u001b[0m\u001b[0;34m\u001b[0m\u001b[0;34m\u001b[0m\u001b[0m\n\u001b[0;32m----> 2\u001b[0;31m \u001b[0mxs\u001b[0m\u001b[0;34m,\u001b[0m \u001b[0mys\u001b[0m \u001b[0;34m=\u001b[0m \u001b[0mpickle\u001b[0m\u001b[0;34m.\u001b[0m\u001b[0mload\u001b[0m\u001b[0;34m(\u001b[0m \u001b[0mopen\u001b[0m\u001b[0;34m(\u001b[0m \u001b[0;34m'problem1.pickle'\u001b[0m\u001b[0;34m,\u001b[0m \u001b[0;34m'rb'\u001b[0m \u001b[0;34m)\u001b[0m \u001b[0;34m)\u001b[0m\u001b[0;34m\u001b[0m\u001b[0;34m\u001b[0m\u001b[0m\n\u001b[0m\u001b[1;32m      3\u001b[0m \u001b[0mprint\u001b[0m\u001b[0;34m(\u001b[0m\u001b[0mxs\u001b[0m\u001b[0;34m,\u001b[0m\u001b[0mys\u001b[0m\u001b[0;34m)\u001b[0m\u001b[0;34m\u001b[0m\u001b[0;34m\u001b[0m\u001b[0m\n",
            "\u001b[0;31mFileNotFoundError\u001b[0m: [Errno 2] No such file or directory: 'problem1.pickle'"
          ]
        }
      ]
    },
    {
      "cell_type": "markdown",
      "source": [
        "## Problem 1b\n",
        "Plot the amount of fuel consumed (x) vs the distance traveled (y) \n",
        "\n",
        "You might find the following code snippet for plotting helpful: \n",
        "\n",
        "```python\n",
        "import matplotlib.pyplot as plt\n",
        "\n",
        "plt.clf()\n",
        "plt.scatter(xs, ys)\n",
        "plt.ion()\n",
        "plt.show()\n",
        "```"
      ],
      "metadata": {
        "id": "ls0kZTxqWq7D"
      }
    },
    {
      "cell_type": "code",
      "source": [
        "import matplotlib.pyplot as plt\n",
        "\n",
        "plt.clf()\n",
        "plt.scatter(xs, ys)\n",
        "plt.ion()\n",
        "plt.show()"
      ],
      "metadata": {
        "colab": {
          "base_uri": "https://localhost:8080/",
          "height": 269
        },
        "id": "UL0z2PAYpDPX",
        "outputId": "3263f4f5-1b1d-4db0-c64f-5ac955659c1f"
      },
      "execution_count": null,
      "outputs": [
        {
          "output_type": "display_data",
          "data": {
            "text/plain": [
              "<Figure size 432x288 with 1 Axes>"
            ],
            "image/png": "[encoded data removed]"
          },
          "metadata": {
            "needs_background": "light"
          }
        }
      ]
    },
    {
      "cell_type": "markdown",
      "source": [
        "## Problem 1 c\n",
        "\n",
        "Define the hypothesis function for this regression problem. You will want to do this as part of a function so you can call it during gradient descent. \n",
        "\n",
        "```python \n",
        "def hypothesis( phi0, phi1, x) : \n",
        "\treturn ## Your code here. \n",
        "```"
      ],
      "metadata": {
        "id": "7lHz8wsqXNce"
      }
    },
    {
      "cell_type": "code",
      "source": [
        "def hypothesis( phi0, phi1, x) : \n",
        "    return phi0+phi1*x"
      ],
      "metadata": {
        "id": "xeTZKbEApMtR"
      },
      "execution_count": null,
      "outputs": []
    },
    {
      "cell_type": "markdown",
      "source": [
        "## Problem 1 d\n",
        "\n",
        "Initialise the values of phi0 and phi1 and, using the following algorithm for gradient descent, learn the appropriate values for **phi** based on the training data (perform gradient descent). \n",
        "\n",
        "\n",
        "```algorithm\n",
        "Foreach epoch do {\n",
        "\tcost ← 0 ; # set cost to 0\n",
        "\tForeach (x_value, y_value) in training_data do {\n",
        "\tthis_prediction ← h𝜙(x_value)\n",
        "\tcost += (y_value - this_prediction)2\n",
        "\t𝜙1 -= alpha * ( this_prediction - y_value ) * x_value\n",
        "\t𝜙0 -= alpha * ( this_prediction - y_value )\n",
        "\tprint out the values of cost, 𝜙0 and 𝜙1\n",
        "\t}\n",
        "}\n",
        "```\n",
        "\n",
        "At the end of each epoch, be sure to plot the hypothesis function parametrised by the values of **phi** thus far calculated.\n",
        "\n",
        "Here is a template for your code that you might find helpful: \n",
        "\n",
        "```python\n",
        "import numpy as np\n",
        "from IPython.display import clear_output\n",
        "\n",
        "xs = ## loaded from file\n",
        "ys = ## loaded from file\n",
        "\n",
        "epochs = ## Some sensible integer here. \n",
        "\n",
        "## WARNING: If you do use an integer here, python will assume this is\n",
        "##             an integer and truncate the values accordingly. \n",
        "##          You can also use float( something ) to explicitly set the type.\n",
        "\n",
        "phi1  = ## Some sensible numbere here. \n",
        "phi0  = ## Some sensible numbere here. \n",
        "alpha = ## Some sensible numbere here. \n",
        "\n",
        "for i in range(epochs):\n",
        "\tcost = 0\t\n",
        "\tfor index in range( len( xs ) ) :\n",
        "\t\ty_this = hypothesis( phi0, phi1, xs[ index ] ) \n",
        "\t\t## Include code here to calculate the cost \n",
        "\t\t## \t\tand updated values of phi\n",
        "\n",
        "        ##    WARNING: BE SURE TO USE THE CORRECTED VERSION OF THE UPDATE RULE\n",
        "        ##         (SEE above)\n",
        "\n",
        "\tprint( cost, phi0, phi1 )\n",
        "\t\n",
        "  ## Plot what we have so far\n",
        "  x = np.linspace( min( xs ), max( xs ) )\n",
        "  y = [ hypothesis( phi0, phi1, i ) for i in x ] \n",
        "  plt.clf()\n",
        "  plt.scatter(xs, ys, s=1) )\n",
        "  plt.plot( x, y, color=\"red\" ) \n",
        "  plt.show()\n",
        "  clear_output(wait=True)\n",
        "\n",
        "```\n",
        "\n",
        "Here is a sample of what is expected: \n",
        "\n",
        "![image.png](data:image/png;base64,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)"
      ],
      "metadata": {
        "id": "nypBSujhaCN-"
      }
    },
    {
      "cell_type": "code",
      "source": [
        "import numpy as np\n",
        "from IPython.display import clear_output\n",
        "\n",
        "\n",
        "epochs = 100 ## Some sensible integer here. \n",
        "\n",
        "## WARNING: If you do use an integer here, python will assume this is\n",
        "##             an integer and truncate the values accordingly. \n",
        "##          You can also use float( something ) to explicitly set the type.\n",
        "\n",
        "phi1  = 0.7 ## Some sensible numbere here. \n",
        "phi0  = 0 ## Some sensible numbere here. \n",
        "alpha = 0.01 ## Some sensible numbere here. \n",
        "\n",
        "for i in range(epochs):\n",
        "    cost = 0    \n",
        "    for index in range( len( xs ) ) :\n",
        "        y_this = hypothesis( phi0, phi1, xs[ index ] ) \n",
        "        ## Include code here to calculate the cost \n",
        "        ##         and updated values of phi\n",
        "        cost+=(ys[index]-y_this)**2\n",
        "        phi1-= alpha*(y_this-ys[index])*xs[index]\n",
        "        phi0-= alpha*(y_this-ys[index])\n",
        "        ##    WARNING: BE SURE TO USE THE CORRECTED VERSION OF THE UPDATE RULE\n",
        "        ##         (SEE above)\n",
        "\n",
        "    print( cost, phi0, phi1 )\n",
        "\n",
        "  ## Plot what we have so far\n",
        "x = np.linspace( min( xs ), max( xs ) )\n",
        "y = [ hypothesis( phi0, phi1, i ) for i in x ] \n",
        "plt.clf()\n",
        "plt.scatter(xs, ys, s=1)\n",
        "plt.plot( x, y, color=\"red\" ) \n",
        "plt.show()\n",
        "clear_output(wait=True)"
      ],
      "metadata": {
        "id": "GqQiwDHMpqJB"
      },
      "execution_count": null,
      "outputs": []
    },
    {
      "cell_type": "markdown",
      "source": [
        "## Problem 1 e\n",
        "\n",
        "Can the Kashyyyk get back to Earth?\n",
        "\n",
        "Recall, that Earth is 52.22 light months away and they have 18 grams of fuel left."
      ],
      "metadata": {
        "id": "XJyXWzAAiIDA"
      }
    },
    {
      "cell_type": "markdown",
      "source": [
        "YES 18x3=54 "
      ],
      "metadata": {
        "id": "XLwEcNW_shds"
      }
    },
    {
      "cell_type": "markdown",
      "source": [
        "## Problem 2\n",
        "\n",
        "Tallissan Lintra has just had a chat with her chief engineer who claims that there was something wrong with the data that was used to calculate the distance they can travel. \n",
        "\n",
        "You can find the corrected data here: \n",
        "\n",
        "Importantly, Lintra has discovered that fuel usage is the dependent variable (y) and the distance travelled is the independent variable. It turns out that the Ion drive requires progressively more fuel for longer distances due to an oddity in the space time continuum. "
      ],
      "metadata": {
        "id": "QF6NaZcejimP"
      }
    },
    {
      "cell_type": "markdown",
      "source": [
        "## Problem 2 a\n",
        "\n",
        "Download the data and load it into xs and ys as before\n",
        "\n",
        "IMPORTANT: xs is now the distance, and ys the coresponding list of required fuel. "
      ],
      "metadata": {
        "id": "I2BIjCwIm4W9"
      }
    },
    {
      "cell_type": "markdown",
      "source": [
        "## Problem 2b\n",
        "Plot the amount of fuel consumed (x) vs the distance traveled (y) \n",
        "\n"
      ],
      "metadata": {
        "id": "hZZt0sWln200"
      }
    },
    {
      "cell_type": "code",
      "source": [
        "xs, ys = pickle.load( open( 'problem2.pickle', 'rb' ) )\n",
        "plt.clf()\n",
        "plt.scatter(xs, ys)\n",
        "plt.ion()\n",
        "plt.show()"
      ],
      "metadata": {
        "colab": {
          "base_uri": "https://localhost:8080/",
          "height": 269
        },
        "id": "ZuVduaRwstsa",
        "outputId": "80ace8ea-711c-4d7d-c713-266f0d2085b3"
      },
      "execution_count": null,
      "outputs": [
        {
          "output_type": "display_data",
          "data": {
            "text/plain": [
              "<Figure size 432x288 with 1 Axes>"
            ],
            "image/png": "[encoded data removed]"
          },
          "metadata": {
            "needs_background": "light"
          }
        }
      ]
    },
    {
      "cell_type": "markdown",
      "source": [
        "## Problem 2 c\n",
        "\n",
        "Define the hypothesis function for this regression problem. You will want to do this as part of a function so you can call it during gradient descent. \n",
        "\n",
        "```python \n",
        "def hypothesis( phi0, phi1, phi2, x) : \n",
        "\treturn ## Your code here. \n",
        "```"
      ],
      "metadata": {
        "id": "SEAKGaJroB5e"
      }
    },
    {
      "cell_type": "code",
      "source": [
        "def hypothesis( phi0, phi1, phi2, x) : \n",
        "    return phi0 + phi1*x + phi2*x*x"
      ],
      "metadata": {
        "id": "rPce2DiltraD"
      },
      "execution_count": null,
      "outputs": []
    },
    {
      "cell_type": "markdown",
      "source": [
        "## Problem 2 d\n",
        "\n",
        "Estimate the valies of **phi** through grandient descent and be sure to plot your estimate after each epoch (as in Problem 1 d) \n",
        "\n",
        "\n",
        "### NOTE\n",
        "\n",
        "Remember what was said about how the value of alpha affects gradient descent. What does it mean if the cost goes up?\n",
        "\n",
        "Notice that you might need to run this for a while. It might not be a good idea to plot after every epoch as plotting takes a lot of time. Instead, you might want to add the following if to the plot: \n",
        "\n",
        "```python\n",
        "## Plot every 1000 epochs\n",
        "if i % 1000 == 0 :\n",
        "\tprint( i )\n",
        "\tprint( cost, phi0, phi1, phi2 )\n",
        "\tx = np.linspace( min( xs ), max( xs ) )\n",
        "\ty = [ hypothesis( phi0, phi1, phi2, i ) for i in x ]\n",
        "\tplt.clf()\n",
        "\tplt.scatter(xs, ys, s=20)\n",
        "\tplt.plot( x, y, color=\"red\" )\n",
        "\tplt.show()\n",
        "\tclear_output(wait=True)\n",
        "```\n",
        "\n",
        "\n",
        "Also, notice that you might have to run this multiple times. So as to avoid starting from scratch, you are encouraged to initialise the your phi0, ... in a different cell so you can run \"continue\" running gradeient descent: \n",
        "\n",
        "```python\n",
        "import numpy as np\n",
        "from IPython.display import clear_output\n",
        "# xs = ## loaded from file\n",
        "# ys = ## loaded from file\n",
        "epochs = ## \n",
        "phi2 = ## \n",
        "phi1 = ## \n",
        "phi0 = ## \n",
        "alpha = ## \n",
        "\n",
        "## Start loop in new code block!\n",
        "```\n",
        "\n",
        "\n",
        "Here is what is expected as output: \n",
        "\n",
        "![image.png](data:image/png;base64,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)"
      ],
      "metadata": {
        "id": "4ybzBslWqQ4j"
      }
    },
    {
      "cell_type": "code",
      "source": [
        "import numpy as np\n",
        "from IPython.display import clear_output\n",
        "# xs = ## loaded from file\n",
        "# ys = ## loaded from file\n",
        "epochs = 100000\n",
        "phi2 = 1.1\n",
        "phi1 = 1.1\n",
        "phi0 = 0.0\n",
        "alpha = 0.000001\n",
        "\n",
        "for i in range(epochs):\n",
        "    cost = 0\n",
        "    for index in range( len( xs ) ) :\n",
        "        y_this = hypothesis( phi0, phi1, phi2 ,xs[ index ] ) \n",
        "        ## Include code here to calculate the cost \n",
        "        ##         and updated values of phi\n",
        "        cost+=(ys[index]-y_this)**2\n",
        "        phi2-= alpha*(y_this-ys[index])*xs[index]**2\n",
        "        phi1-= alpha*(y_this-ys[index])*xs[index]\n",
        "        phi0-= alpha*(y_this-ys[index])\n",
        "        ##    WARNING: BE SURE TO USE THE CORRECTED VERSION OF THE UPDATE RULE\n",
        "        ##         (SEE above)\n",
        "    if i % 1000 == 0 :\n",
        "      print( i )\n",
        "      print( cost, phi0, phi1, phi2 )\n",
        "      x = np.linspace( min( xs ), max( xs ) )\n",
        "      y = [ hypothesis( phi0, phi1, phi2, i ) for i in x ]\n",
        "      plt.clf()\n",
        "      plt.scatter(xs, ys, s=20)\n",
        "      plt.plot( x, y, color=\"red\" )\n",
        "      plt.show()\n",
        "      clear_output(wait=True)\n",
        "\n",
        "print( cost, phi0, phi1, phi2)\n"
      ],
      "metadata": {
        "colab": {
          "base_uri": "https://localhost:8080/",
          "height": 34
        },
        "id": "2z0em-U3txO2",
        "outputId": "83676d13-d84e-4a92-899e-cdbeb22345d8"
      },
      "execution_count": null,
      "outputs": [
        {
          "output_type": "stream",
          "name": "stdout",
          "text": [
            "0.011920071233317783 -0.022938098692392547 0.014050707956290476 0.014873700872778594\n"
          ]
        }
      ]
    },
    {
      "cell_type": "markdown",
      "source": [
        "## Problem 2 e\n",
        "\n",
        "Can the Kashyyyk get back to Earth?\n",
        "\n",
        "Recall, that Earth is 52.22 light months away and they have 18 grams of fuel left."
      ],
      "metadata": {
        "id": "iyPw6qga1TNx"
      }
    },
    {
      "cell_type": "code",
      "source": [
        "phi0 + phi1*52.22 + phi2*(52.22**2)"
      ],
      "metadata": {
        "colab": {
          "base_uri": "https://localhost:8080/"
        },
        "id": "kr8fXDL85tIR",
        "outputId": "3657c66b-6aa5-4f5e-89ae-016a8cf26475"
      },
      "execution_count": null,
      "outputs": [
        {
          "output_type": "execute_result",
          "data": {
            "text/plain": [
              "41.27030719386983"
            ]
          },
          "metadata": {},
          "execution_count": 14
        }
      ]
    },
    {
      "cell_type": "markdown",
      "source": [
        "requires 40.32127044 fuel so no"
      ],
      "metadata": {
        "id": "8cKcgHUMziaq"
      }
    }
  ]
}